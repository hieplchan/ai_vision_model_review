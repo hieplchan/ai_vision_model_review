{
 "cells": [
  {
   "cell_type": "markdown",
   "metadata": {},
   "source": [
    "# [Advance Indexing Tutotial](https://medium.com/@TejasBob/being-efficient-with-numpy-part-1-2e13f783f41b)  "
   ]
  },
  {
   "cell_type": "code",
   "execution_count": 1,
   "metadata": {},
   "outputs": [],
   "source": [
    "import time\n",
    "import numpy as np"
   ]
  },
  {
   "cell_type": "code",
   "execution_count": 2,
   "metadata": {},
   "outputs": [
    {
     "data": {
      "text/plain": [
       "((10000000,), (10000000,))"
      ]
     },
     "execution_count": 2,
     "metadata": {},
     "output_type": "execute_result"
    }
   ],
   "source": [
    "n_elements = 10000000\n",
    "source = np.arange(n_elements)\n",
    "lookup_table = np.random.randn(n_elements)\n",
    "source.shape, lookup_table.shape"
   ]
  },
  {
   "cell_type": "code",
   "execution_count": 3,
   "metadata": {},
   "outputs": [
    {
     "data": {
      "text/plain": [
       "(1724.1194248199463, 10000000)"
      ]
     },
     "execution_count": 3,
     "metadata": {},
     "output_type": "execute_result"
    }
   ],
   "source": [
    "# normal loop in python\n",
    "result = []\n",
    "start = time.time()\n",
    "\n",
    "for element in source:\n",
    "    transformed_value = lookup_table[element]\n",
    "    result.append(transformed_value)\n",
    "    \n",
    "end = time.time()\n",
    "(end-start)*1000, len(result)"
   ]
  },
  {
   "cell_type": "code",
   "execution_count": 4,
   "metadata": {},
   "outputs": [
    {
     "data": {
      "text/plain": [
       "(33.62607955932617, 10000000)"
      ]
     },
     "execution_count": 4,
     "metadata": {},
     "output_type": "execute_result"
    }
   ],
   "source": [
    "# advanced indexing: significant faster\n",
    "result = np.zeros_like(source)\n",
    "start = time.time()\n",
    "\n",
    "result = lookup_table.ravel()[source.ravel()]\n",
    "\n",
    "end = time.time()\n",
    "(end-start)*1000, len(result)"
   ]
  }
 ],
 "metadata": {
  "kernelspec": {
   "display_name": "Python 3",
   "language": "python",
   "name": "python3"
  },
  "language_info": {
   "codemirror_mode": {
    "name": "ipython",
    "version": 3
   },
   "file_extension": ".py",
   "mimetype": "text/x-python",
   "name": "python",
   "nbconvert_exporter": "python",
   "pygments_lexer": "ipython3",
   "version": "3.7.3"
  }
 },
 "nbformat": 4,
 "nbformat_minor": 2
}
